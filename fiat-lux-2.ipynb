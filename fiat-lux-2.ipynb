{
 "cells": [
  {
   "cell_type": "code",
   "outputs": [
    {
     "name": "stderr",
     "output_type": "stream",
     "text": [
      "2024-03-26 12:06:16.128117: I metal_plugin/src/device/metal_device.cc:1154] Metal device set to: Apple M2\n",
      "2024-03-26 12:06:16.128137: I metal_plugin/src/device/metal_device.cc:296] systemMemory: 24.00 GB\n",
      "2024-03-26 12:06:16.128141: I metal_plugin/src/device/metal_device.cc:313] maxCacheSize: 8.00 GB\n",
      "2024-03-26 12:06:16.128154: I tensorflow/core/common_runtime/pluggable_device/pluggable_device_factory.cc:305] Could not identify NUMA node of platform GPU ID 0, defaulting to 0. Your kernel may not have been built with NUMA support.\n",
      "2024-03-26 12:06:16.128164: I tensorflow/core/common_runtime/pluggable_device/pluggable_device_factory.cc:271] Created TensorFlow device (/job:localhost/replica:0/task:0/device:GPU:0 with 0 MB memory) -> physical PluggableDevice (device: 0, name: METAL, pci bus id: <undefined>)\n"
     ]
    },
    {
     "name": "stdout",
     "output_type": "stream",
     "text": [
      "Invalid box dimensions (width: 0, height: 7) for image: raw_data/llvip/raw_data/infrared/train/090437.jpg\n",
      "Invalid box dimensions (width: 0, height: 1) for image: raw_data/llvip/raw_data/infrared/train/020118.jpg\n",
      "Invalid box dimensions (width: 0, height: 1) for image: raw_data/llvip/raw_data/infrared/train/020236.jpg\n",
      "Invalid box dimensions (width: 0, height: 7) for image: raw_data/llvip/raw_data/infrared/train/170350.jpg\n",
      "Invalid box dimensions (width: 0, height: 1) for image: raw_data/llvip/raw_data/infrared/train/091180.jpg\n"
     ]
    },
    {
     "name": "stderr",
     "output_type": "stream",
     "text": [
      "2024-03-26 12:10:47.743198: W tensorflow/core/framework/op_kernel.cc:1839] OP_REQUIRES failed at whole_file_read_ops.cc:116 : NOT_FOUND: raw_data/oxford-iiit-pet/raw_data/images/grayscale/Egyptian_Mau_14.jpg; No such file or directory\n",
      "2024-03-26 12:10:47.743452: W tensorflow/core/framework/local_rendezvous.cc:404] Local rendezvous is aborting with status: NOT_FOUND: raw_data/oxford-iiit-pet/raw_data/images/grayscale/Egyptian_Mau_14.jpg; No such file or directory\n",
      "2024-03-26 12:10:47.763758: W tensorflow/core/framework/op_kernel.cc:1839] OP_REQUIRES failed at whole_file_read_ops.cc:116 : NOT_FOUND: raw_data/oxford-iiit-pet/raw_data/images/grayscale/Egyptian_Mau_156.jpg; No such file or directory\n",
      "2024-03-26 12:10:47.763769: W tensorflow/core/framework/local_rendezvous.cc:404] Local rendezvous is aborting with status: NOT_FOUND: raw_data/oxford-iiit-pet/raw_data/images/grayscale/Egyptian_Mau_156.jpg; No such file or directory\n",
      "2024-03-26 12:10:47.837353: W tensorflow/core/framework/op_kernel.cc:1839] OP_REQUIRES failed at whole_file_read_ops.cc:116 : NOT_FOUND: raw_data/oxford-iiit-pet/raw_data/images/grayscale/Egyptian_Mau_186.jpg; No such file or directory\n",
      "2024-03-26 12:10:47.837389: W tensorflow/core/framework/local_rendezvous.cc:404] Local rendezvous is aborting with status: NOT_FOUND: raw_data/oxford-iiit-pet/raw_data/images/grayscale/Egyptian_Mau_186.jpg; No such file or directory\n"
     ]
    },
    {
     "name": "stdout",
     "output_type": "stream",
     "text": [
      "The file at raw_data/oxford-iiit-pet/raw_data/images/grayscale/Egyptian_Mau_14.jpg does not exist.\n",
      "The file at raw_data/oxford-iiit-pet/raw_data/images/grayscale/Egyptian_Mau_156.jpg does not exist.\n",
      "The file at raw_data/oxford-iiit-pet/raw_data/images/grayscale/Egyptian_Mau_186.jpg does not exist.\n"
     ]
    },
    {
     "name": "stderr",
     "output_type": "stream",
     "text": [
      "2024-03-26 12:10:49.322162: W tensorflow/core/framework/op_kernel.cc:1839] OP_REQUIRES failed at whole_file_read_ops.cc:116 : NOT_FOUND: raw_data/oxford-iiit-pet/raw_data/images/grayscale/Abyssinian_5.jpg; No such file or directory\n",
      "2024-03-26 12:10:49.322175: W tensorflow/core/framework/local_rendezvous.cc:404] Local rendezvous is aborting with status: NOT_FOUND: raw_data/oxford-iiit-pet/raw_data/images/grayscale/Abyssinian_5.jpg; No such file or directory\n"
     ]
    },
    {
     "name": "stdout",
     "output_type": "stream",
     "text": [
      "The file at raw_data/oxford-iiit-pet/raw_data/images/grayscale/Abyssinian_5.jpg does not exist.\n"
     ]
    }
   ],
   "source": [
    "import os\n",
    "import xml.etree.ElementTree as ET\n",
    "import numpy as np\n",
    "import tensorflow as tf\n",
    "from sklearn.model_selection import train_test_split\n",
    "from tensorflow.keras.preprocessing.image import ImageDataGenerator\n",
    "from tensorflow.keras.utils import to_categorical\n",
    "\n",
    "# Function to parse XML annotation for bounding box\n",
    "def parse_annotation(annotation_path):\n",
    "    tree = ET.parse(annotation_path)\n",
    "    root = tree.getroot()\n",
    "    boxes = []\n",
    "    for obj in root.findall('object'):\n",
    "        bbox = obj.find('bndbox')\n",
    "        boxes.append((int(bbox.find('xmin').text),\n",
    "                      int(bbox.find('ymin').text),\n",
    "                      int(bbox.find('xmax').text),\n",
    "                      int(bbox.find('ymax').text)))\n",
    "    return boxes\n",
    "\n",
    "# Function to load and crop images based on bounding box\n",
    "def load_and_crop_image(image_path, box):\n",
    "    image = tf.io.read_file(image_path)\n",
    "    image = tf.image.decode_jpeg(image, channels=3)\n",
    "\n",
    "    # Ensure box dimensions are positive\n",
    "    box_width = box[2] - box[0]\n",
    "    box_height = box[3] - box[1]\n",
    "    if box_width <= 0 or box_height <= 0:\n",
    "        print(f\"Invalid box dimensions (width: {box_width}, height: {box_height}) for image: {image_path}\")\n",
    "        return None\n",
    "\n",
    "    image = tf.image.crop_to_bounding_box(image, box[1], box[0], box_height, box_width)\n",
    "    image = tf.image.resize(image, (224, 224))  # Resize for model compatibility\n",
    "    return image.numpy()  # Convert to numpy array for model compatibility\n",
    "\n",
    "\n",
    "# Function to prepare dataset for 'person' class\n",
    "def prepare_person_dataset(base_path, annotation_folder, image_folders):\n",
    "    images, labels = [], []\n",
    "\n",
    "    annotations_path = os.path.join(base_path, annotation_folder)\n",
    "    for annotation_file in os.listdir(annotations_path):\n",
    "        filename = annotation_file.replace('.xml', '.jpg')\n",
    "        annotation_path = os.path.join(annotations_path, annotation_file)\n",
    "        boxes = parse_annotation(annotation_path)\n",
    "\n",
    "        for folder in image_folders:\n",
    "            image_path = os.path.join(base_path, folder, filename)\n",
    "            if os.path.exists(image_path):\n",
    "                for box in boxes:\n",
    "                    cropped_image = load_and_crop_image(image_path, box)\n",
    "                    if cropped_image is not None:\n",
    "                        images.append(cropped_image)\n",
    "                        labels.append(1)  # Label for 'person'\n",
    "                break\n",
    "\n",
    "    return np.array(images), np.array(labels)\n",
    "\n",
    "\n",
    "# Function to prepare dataset for 'non-person' class\n",
    "def prepare_non_person_dataset(base_path, list_paths, image_folder):\n",
    "    images, labels = [], []\n",
    "\n",
    "    for list_path in list_paths:\n",
    "        with open(os.path.join(base_path, list_path), 'r') as file:\n",
    "            lines = file.readlines()\n",
    "            for line in lines:\n",
    "                image_name, _, _, _ = line.split()\n",
    "                image_path = os.path.join(base_path, image_folder, image_name + '.jpg')\n",
    "                try:\n",
    "                    image_raw = tf.io.read_file(image_path)  # Read the raw image file\n",
    "                    image = tf.image.decode_jpeg(image_raw, channels=3)  # Decode JPEG image\n",
    "                    image = tf.image.resize(image, (224, 224))  # Resize for model compatibility\n",
    "                    images.append(image.numpy())  # Convert to numpy array for model compatibility\n",
    "                    labels.append(0)  # Label for 'non-person'\n",
    "                except tf.errors.NotFoundError:\n",
    "                    print(f\"The file at {image_path} does not exist.\")\n",
    "                except Exception as e:\n",
    "                    print(f\"Error processing file {image_path}: {e}\")\n",
    "\n",
    "    return np.array(images), np.array(labels)\n",
    "\n",
    "# Example usage\n",
    "with tf.device('/cpu:0'):\n",
    "    base_path_person = 'raw_data/llvip/raw_data'\n",
    "    image_folders_person = ['infrared/train', 'infrared/test']\n",
    "    annotation_folder_person = 'Annotations'\n",
    "    person_images, person_labels = prepare_person_dataset(base_path_person, annotation_folder_person, image_folders_person)\n",
    "    \n",
    "    base_path_non_person = 'raw_data/oxford-iiit-pet/raw_data'\n",
    "    list_paths_non_person = ['annotations/annotations/trainval.txt', 'annotations/annotations/test.txt']\n",
    "    image_folder_non_person = 'images/grayscale'\n",
    "    non_person_images, non_person_labels = prepare_non_person_dataset(base_path_non_person, list_paths_non_person, image_folder_non_person)\n",
    "    \n",
    "    # Combine datasets\n",
    "    images = np.concatenate((person_images, non_person_images))\n",
    "    labels = np.concatenate((person_labels, non_person_labels))\n",
    "    \n",
    "    # Split combined dataset into training, test, and then training into training and validation sets\n",
    "    X_train, X_test, y_train, y_test = train_test_split(images, labels, test_size=0.2, random_state=42)\n",
    "    X_train, X_val, y_train, y_val = train_test_split(X_train, y_train, test_size=0.2, random_state=42)\n",
    "    \n",
    "    # Convert labels to categorical for model training\n",
    "    y_train = to_categorical(y_train, num_classes=2)\n",
    "    y_val = to_categorical(y_val, num_classes=2)\n",
    "    y_test = to_categorical(y_test, num_classes=2)\n",
    "\n",
    "# At this point, X_train, X_val, X_test, y_train, y_val, and y_test are ready for training, validating, and testing your model.\n"
   ],
   "metadata": {
    "collapsed": false,
    "ExecuteTime": {
     "end_time": "2024-03-26T11:15:49.174222Z",
     "start_time": "2024-03-26T11:06:13.633763Z"
    }
   },
   "id": "da907ab8a677a5b7",
   "execution_count": 1
  },
  {
   "cell_type": "code",
   "outputs": [
    {
     "name": "stdout",
     "output_type": "stream",
     "text": [
      "31856\n",
      "31856\n"
     ]
    }
   ],
   "source": [
    "print(len(X_train))\n",
    "print(len(y_train))"
   ],
   "metadata": {
    "collapsed": false,
    "ExecuteTime": {
     "end_time": "2024-03-26T11:15:55.638302Z",
     "start_time": "2024-03-26T11:15:55.635179Z"
    }
   },
   "id": "ec8750ace868b7cf",
   "execution_count": 2
  },
  {
   "cell_type": "code",
   "outputs": [],
   "source": [
    "import tensorflow as tf\n",
    "from tensorflow.keras.preprocessing.image import ImageDataGenerator\n",
    "from tensorflow.keras.layers import MaxPooling2D, Flatten, Dense, Convolution2D, Activation, Input, BatchNormalization\n",
    "from tensorflow.keras.models import Sequential\n",
    "import matplotlib.pyplot as plt\n",
    "%matplotlib inline\n",
    "plt.style.use('default')\n",
    "\n",
    "model = Sequential()\n",
    "\n",
    "model.add(Input(shape=(224, 224, 3)))\n",
    "model.add(Convolution2D(32,(3,3),padding='same'))\n",
    "model.add(BatchNormalization())\n",
    "#model.add(Convolution2D(32,(3,3),padding='same'))\n",
    "#model.add(BatchNormalization())\n",
    "#model.add(Activation('relu'))\n",
    "#model.add(MaxPooling2D(pool_size=(2,2)))\n",
    "\n",
    "#model.add(Convolution2D(32,(3,3),padding='same'))\n",
    "#model.add(BatchNormalization())\n",
    "#model.add(Activation('relu'))\n",
    "\n",
    "#model.add(Convolution2D(32,(3,3),padding='same'))\n",
    "#model.add(BatchNormalization())\n",
    "model.add(Activation('relu'))\n",
    "model.add(MaxPooling2D(pool_size=(2,2)))\n",
    "\n",
    "\n",
    "model.add(Flatten())\n",
    "model.add(Dense(40))\n",
    "model.add(Activation('relu'))\n",
    "model.add(Dense(2))\n",
    "model.add(Activation('sigmoid'))\n",
    "\n",
    "# compile model and initialize weights\n",
    "model.compile(loss='binary_crossentropy',\n",
    "              optimizer='adam',\n",
    "              metrics=['accuracy'])"
   ],
   "metadata": {
    "collapsed": false,
    "ExecuteTime": {
     "end_time": "2024-03-26T11:16:00.354513Z",
     "start_time": "2024-03-26T11:15:59.425989Z"
    }
   },
   "id": "64340eee14519402",
   "execution_count": 3
  },
  {
   "cell_type": "code",
   "outputs": [
    {
     "data": {
      "text/plain": "\u001B[1mModel: \"sequential\"\u001B[0m\n",
      "text/html": "<pre style=\"white-space:pre;overflow-x:auto;line-height:normal;font-family:Menlo,'DejaVu Sans Mono',consolas,'Courier New',monospace\"><span style=\"font-weight: bold\">Model: \"sequential\"</span>\n</pre>\n"
     },
     "metadata": {},
     "output_type": "display_data"
    },
    {
     "data": {
      "text/plain": "┏━━━━━━━━━━━━━━━━━━━━━━━━━━━━━━━━━┳━━━━━━━━━━━━━━━━━━━━━━━━┳━━━━━━━━━━━━━━━┓\n┃\u001B[1m \u001B[0m\u001B[1mLayer (type)                   \u001B[0m\u001B[1m \u001B[0m┃\u001B[1m \u001B[0m\u001B[1mOutput Shape          \u001B[0m\u001B[1m \u001B[0m┃\u001B[1m \u001B[0m\u001B[1m      Param #\u001B[0m\u001B[1m \u001B[0m┃\n┡━━━━━━━━━━━━━━━━━━━━━━━━━━━━━━━━━╇━━━━━━━━━━━━━━━━━━━━━━━━╇━━━━━━━━━━━━━━━┩\n│ conv2d (\u001B[38;5;33mConv2D\u001B[0m)                 │ (\u001B[38;5;45mNone\u001B[0m, \u001B[38;5;34m224\u001B[0m, \u001B[38;5;34m224\u001B[0m, \u001B[38;5;34m32\u001B[0m)   │           \u001B[38;5;34m896\u001B[0m │\n├─────────────────────────────────┼────────────────────────┼───────────────┤\n│ batch_normalization             │ (\u001B[38;5;45mNone\u001B[0m, \u001B[38;5;34m224\u001B[0m, \u001B[38;5;34m224\u001B[0m, \u001B[38;5;34m32\u001B[0m)   │           \u001B[38;5;34m128\u001B[0m │\n│ (\u001B[38;5;33mBatchNormalization\u001B[0m)            │                        │               │\n├─────────────────────────────────┼────────────────────────┼───────────────┤\n│ activation (\u001B[38;5;33mActivation\u001B[0m)         │ (\u001B[38;5;45mNone\u001B[0m, \u001B[38;5;34m224\u001B[0m, \u001B[38;5;34m224\u001B[0m, \u001B[38;5;34m32\u001B[0m)   │             \u001B[38;5;34m0\u001B[0m │\n├─────────────────────────────────┼────────────────────────┼───────────────┤\n│ max_pooling2d (\u001B[38;5;33mMaxPooling2D\u001B[0m)    │ (\u001B[38;5;45mNone\u001B[0m, \u001B[38;5;34m112\u001B[0m, \u001B[38;5;34m112\u001B[0m, \u001B[38;5;34m32\u001B[0m)   │             \u001B[38;5;34m0\u001B[0m │\n├─────────────────────────────────┼────────────────────────┼───────────────┤\n│ flatten (\u001B[38;5;33mFlatten\u001B[0m)               │ (\u001B[38;5;45mNone\u001B[0m, \u001B[38;5;34m401408\u001B[0m)         │             \u001B[38;5;34m0\u001B[0m │\n├─────────────────────────────────┼────────────────────────┼───────────────┤\n│ dense (\u001B[38;5;33mDense\u001B[0m)                   │ (\u001B[38;5;45mNone\u001B[0m, \u001B[38;5;34m40\u001B[0m)             │    \u001B[38;5;34m16,056,360\u001B[0m │\n├─────────────────────────────────┼────────────────────────┼───────────────┤\n│ activation_1 (\u001B[38;5;33mActivation\u001B[0m)       │ (\u001B[38;5;45mNone\u001B[0m, \u001B[38;5;34m40\u001B[0m)             │             \u001B[38;5;34m0\u001B[0m │\n├─────────────────────────────────┼────────────────────────┼───────────────┤\n│ dense_1 (\u001B[38;5;33mDense\u001B[0m)                 │ (\u001B[38;5;45mNone\u001B[0m, \u001B[38;5;34m2\u001B[0m)              │            \u001B[38;5;34m82\u001B[0m │\n├─────────────────────────────────┼────────────────────────┼───────────────┤\n│ activation_2 (\u001B[38;5;33mActivation\u001B[0m)       │ (\u001B[38;5;45mNone\u001B[0m, \u001B[38;5;34m2\u001B[0m)              │             \u001B[38;5;34m0\u001B[0m │\n└─────────────────────────────────┴────────────────────────┴───────────────┘\n",
      "text/html": "<pre style=\"white-space:pre;overflow-x:auto;line-height:normal;font-family:Menlo,'DejaVu Sans Mono',consolas,'Courier New',monospace\">┏━━━━━━━━━━━━━━━━━━━━━━━━━━━━━━━━━┳━━━━━━━━━━━━━━━━━━━━━━━━┳━━━━━━━━━━━━━━━┓\n┃<span style=\"font-weight: bold\"> Layer (type)                    </span>┃<span style=\"font-weight: bold\"> Output Shape           </span>┃<span style=\"font-weight: bold\">       Param # </span>┃\n┡━━━━━━━━━━━━━━━━━━━━━━━━━━━━━━━━━╇━━━━━━━━━━━━━━━━━━━━━━━━╇━━━━━━━━━━━━━━━┩\n│ conv2d (<span style=\"color: #0087ff; text-decoration-color: #0087ff\">Conv2D</span>)                 │ (<span style=\"color: #00d7ff; text-decoration-color: #00d7ff\">None</span>, <span style=\"color: #00af00; text-decoration-color: #00af00\">224</span>, <span style=\"color: #00af00; text-decoration-color: #00af00\">224</span>, <span style=\"color: #00af00; text-decoration-color: #00af00\">32</span>)   │           <span style=\"color: #00af00; text-decoration-color: #00af00\">896</span> │\n├─────────────────────────────────┼────────────────────────┼───────────────┤\n│ batch_normalization             │ (<span style=\"color: #00d7ff; text-decoration-color: #00d7ff\">None</span>, <span style=\"color: #00af00; text-decoration-color: #00af00\">224</span>, <span style=\"color: #00af00; text-decoration-color: #00af00\">224</span>, <span style=\"color: #00af00; text-decoration-color: #00af00\">32</span>)   │           <span style=\"color: #00af00; text-decoration-color: #00af00\">128</span> │\n│ (<span style=\"color: #0087ff; text-decoration-color: #0087ff\">BatchNormalization</span>)            │                        │               │\n├─────────────────────────────────┼────────────────────────┼───────────────┤\n│ activation (<span style=\"color: #0087ff; text-decoration-color: #0087ff\">Activation</span>)         │ (<span style=\"color: #00d7ff; text-decoration-color: #00d7ff\">None</span>, <span style=\"color: #00af00; text-decoration-color: #00af00\">224</span>, <span style=\"color: #00af00; text-decoration-color: #00af00\">224</span>, <span style=\"color: #00af00; text-decoration-color: #00af00\">32</span>)   │             <span style=\"color: #00af00; text-decoration-color: #00af00\">0</span> │\n├─────────────────────────────────┼────────────────────────┼───────────────┤\n│ max_pooling2d (<span style=\"color: #0087ff; text-decoration-color: #0087ff\">MaxPooling2D</span>)    │ (<span style=\"color: #00d7ff; text-decoration-color: #00d7ff\">None</span>, <span style=\"color: #00af00; text-decoration-color: #00af00\">112</span>, <span style=\"color: #00af00; text-decoration-color: #00af00\">112</span>, <span style=\"color: #00af00; text-decoration-color: #00af00\">32</span>)   │             <span style=\"color: #00af00; text-decoration-color: #00af00\">0</span> │\n├─────────────────────────────────┼────────────────────────┼───────────────┤\n│ flatten (<span style=\"color: #0087ff; text-decoration-color: #0087ff\">Flatten</span>)               │ (<span style=\"color: #00d7ff; text-decoration-color: #00d7ff\">None</span>, <span style=\"color: #00af00; text-decoration-color: #00af00\">401408</span>)         │             <span style=\"color: #00af00; text-decoration-color: #00af00\">0</span> │\n├─────────────────────────────────┼────────────────────────┼───────────────┤\n│ dense (<span style=\"color: #0087ff; text-decoration-color: #0087ff\">Dense</span>)                   │ (<span style=\"color: #00d7ff; text-decoration-color: #00d7ff\">None</span>, <span style=\"color: #00af00; text-decoration-color: #00af00\">40</span>)             │    <span style=\"color: #00af00; text-decoration-color: #00af00\">16,056,360</span> │\n├─────────────────────────────────┼────────────────────────┼───────────────┤\n│ activation_1 (<span style=\"color: #0087ff; text-decoration-color: #0087ff\">Activation</span>)       │ (<span style=\"color: #00d7ff; text-decoration-color: #00d7ff\">None</span>, <span style=\"color: #00af00; text-decoration-color: #00af00\">40</span>)             │             <span style=\"color: #00af00; text-decoration-color: #00af00\">0</span> │\n├─────────────────────────────────┼────────────────────────┼───────────────┤\n│ dense_1 (<span style=\"color: #0087ff; text-decoration-color: #0087ff\">Dense</span>)                 │ (<span style=\"color: #00d7ff; text-decoration-color: #00d7ff\">None</span>, <span style=\"color: #00af00; text-decoration-color: #00af00\">2</span>)              │            <span style=\"color: #00af00; text-decoration-color: #00af00\">82</span> │\n├─────────────────────────────────┼────────────────────────┼───────────────┤\n│ activation_2 (<span style=\"color: #0087ff; text-decoration-color: #0087ff\">Activation</span>)       │ (<span style=\"color: #00d7ff; text-decoration-color: #00d7ff\">None</span>, <span style=\"color: #00af00; text-decoration-color: #00af00\">2</span>)              │             <span style=\"color: #00af00; text-decoration-color: #00af00\">0</span> │\n└─────────────────────────────────┴────────────────────────┴───────────────┘\n</pre>\n"
     },
     "metadata": {},
     "output_type": "display_data"
    },
    {
     "data": {
      "text/plain": "\u001B[1m Total params: \u001B[0m\u001B[38;5;34m16,057,466\u001B[0m (61.25 MB)\n",
      "text/html": "<pre style=\"white-space:pre;overflow-x:auto;line-height:normal;font-family:Menlo,'DejaVu Sans Mono',consolas,'Courier New',monospace\"><span style=\"font-weight: bold\"> Total params: </span><span style=\"color: #00af00; text-decoration-color: #00af00\">16,057,466</span> (61.25 MB)\n</pre>\n"
     },
     "metadata": {},
     "output_type": "display_data"
    },
    {
     "data": {
      "text/plain": "\u001B[1m Trainable params: \u001B[0m\u001B[38;5;34m16,057,402\u001B[0m (61.25 MB)\n",
      "text/html": "<pre style=\"white-space:pre;overflow-x:auto;line-height:normal;font-family:Menlo,'DejaVu Sans Mono',consolas,'Courier New',monospace\"><span style=\"font-weight: bold\"> Trainable params: </span><span style=\"color: #00af00; text-decoration-color: #00af00\">16,057,402</span> (61.25 MB)\n</pre>\n"
     },
     "metadata": {},
     "output_type": "display_data"
    },
    {
     "data": {
      "text/plain": "\u001B[1m Non-trainable params: \u001B[0m\u001B[38;5;34m64\u001B[0m (256.00 B)\n",
      "text/html": "<pre style=\"white-space:pre;overflow-x:auto;line-height:normal;font-family:Menlo,'DejaVu Sans Mono',consolas,'Courier New',monospace\"><span style=\"font-weight: bold\"> Non-trainable params: </span><span style=\"color: #00af00; text-decoration-color: #00af00\">64</span> (256.00 B)\n</pre>\n"
     },
     "metadata": {},
     "output_type": "display_data"
    }
   ],
   "source": [
    "model.summary()"
   ],
   "metadata": {
    "collapsed": false,
    "ExecuteTime": {
     "end_time": "2024-03-26T11:16:04.869060Z",
     "start_time": "2024-03-26T11:16:04.788391Z"
    }
   },
   "id": "7fc484146292317",
   "execution_count": 4
  },
  {
   "cell_type": "code",
   "outputs": [
    {
     "name": "stdout",
     "output_type": "stream",
     "text": [
      "Epoch 1/5\n"
     ]
    },
    {
     "name": "stderr",
     "output_type": "stream",
     "text": [
      "2024-03-26 13:18:24.060542: I tensorflow/core/grappler/optimizers/custom_graph_optimizer_registry.cc:117] Plugin optimizer for device_type GPU is enabled.\n"
     ]
    },
    {
     "name": "stdout",
     "output_type": "stream",
     "text": [
      "\u001B[1m138/996\u001B[0m \u001B[32m━━\u001B[0m\u001B[37m━━━━━━━━━━━━━━━━━━\u001B[0m \u001B[1m6:23\u001B[0m 448ms/step - accuracy: 0.9262 - loss: 7.7205"
     ]
    }
   ],
   "source": [
    "with tf.device('/cpu:0'):\n",
    "    history = model.fit(X_train, y_train,\n",
    "        batch_size=32,  # Adjust based on your dataset size and memory constraints\n",
    "        epochs=5,  # Adjust based on the desired number of training epochs\n",
    "        validation_data=(X_val, y_val)) "
   ],
   "metadata": {
    "collapsed": false,
    "is_executing": true,
    "ExecuteTime": {
     "start_time": "2024-03-26T12:17:54.791819Z"
    }
   },
   "id": "51daf7b919bf0860",
   "execution_count": null
  },
  {
   "cell_type": "code",
   "outputs": [],
   "source": [
    "print(history.history)\n",
    "\n",
    "# Corrected plotting code\n",
    "plt.figure(figsize=(12, 4))\n",
    "\n",
    "# Plot training & validation accuracy values\n",
    "plt.subplot(1, 2, 1)  # Corrected subplot call\n",
    "plt.plot(history.history['accuracy'], linestyle='-.')\n",
    "plt.plot(history.history['val_accuracy'])\n",
    "plt.title('Model Accuracy')\n",
    "plt.ylabel('Accuracy')\n",
    "plt.xlabel('Epoch')\n",
    "plt.legend(['Train', 'Validation'], loc='lower right')\n",
    "\n",
    "# Plot training & validation loss values\n",
    "plt.subplot(1, 2, 2)  # Corrected subplot call\n",
    "plt.plot(history.history['loss'], linestyle='-.')\n",
    "plt.plot(history.history['val_loss'])\n",
    "plt.title('Model Loss')\n",
    "plt.ylabel('Loss')\n",
    "plt.xlabel('Epoch')\n",
    "plt.legend(['Train', 'Validation'], loc='upper right')\n",
    "\n",
    "plt.show()"
   ],
   "metadata": {
    "collapsed": false
   },
   "id": "3b94de3def8efd16"
  }
 ],
 "metadata": {
  "kernelspec": {
   "display_name": "Python 3",
   "language": "python",
   "name": "python3"
  },
  "language_info": {
   "codemirror_mode": {
    "name": "ipython",
    "version": 2
   },
   "file_extension": ".py",
   "mimetype": "text/x-python",
   "name": "python",
   "nbconvert_exporter": "python",
   "pygments_lexer": "ipython2",
   "version": "2.7.6"
  }
 },
 "nbformat": 4,
 "nbformat_minor": 5
}
